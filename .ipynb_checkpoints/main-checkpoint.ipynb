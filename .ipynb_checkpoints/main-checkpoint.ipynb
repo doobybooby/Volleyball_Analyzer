{
 "cells": [
  {
   "cell_type": "code",
   "execution_count": null,
   "id": "714e9ae4-ef82-484a-8e5f-c92e52e8b5fc",
   "metadata": {},
   "outputs": [],
   "source": [
    "# necessary packages \n",
    "!pip3 install opencv-python\n",
    "!pip3 install mediapipe"
   ]
  },
  {
   "cell_type": "code",
   "execution_count": null,
   "id": "61ba44d4-b2e5-407f-ae54-2dc851bd888b",
   "metadata": {
    "tags": []
   },
   "outputs": [],
   "source": [
    "# Calculate Angles\n",
    "def calculate_angle(landmark1, landmark2, landmark3):\n",
    "    x1, y1, _ = landmark1\n",
    "    x2, y2, _ = landmark2\n",
    "    x3, y3, _ = landmark3\n",
    "    \n",
    "    angle = math.degrees(math.atan2(y3 - y2, x3 - x2) - math.atan2(y1 - y2, x1 - x2))\n",
    "    \n",
    "    if angle < 0:\n",
    "        angle+=360\n",
    "    \n",
    "    return angle"
   ]
  },
  {
   "cell_type": "code",
   "execution_count": null,
   "id": "8a197b06-ad60-4618-90c6-24bc1745bb17",
   "metadata": {},
   "outputs": [],
   "source": [
    "# Detect Pose\n",
    "def detect_pose(image, pose, display=True):\n",
    "\n",
    "    # Output image\n",
    "    img = image.copy()\n",
    "\n",
    "    # Convert BGR -> RGB\n",
    "    rgb = cv2.cvtColor(img, cv2.COLOR_BGR2RGB)\n",
    "\n",
    "    # Pose Detection\n",
    "    results = pose.process(rgb)\n",
    "\n",
    "    # Height & Width of the img\n",
    "    height, width, _ = img.shape\n",
    "\n",
    "    # Landmarks\n",
    "    landmarks = []\n",
    "    if results.pose_landmarks:\n",
    "        mp_drawing.draw_landmarks(image=img, landmark_list=results.pose_landmarks, connections=mp_pose.POSE_CONNECTIONS)\n",
    "\n",
    "        for landmark in results.pose_landmarks.landmark:\n",
    "\n",
    "            # Append the landmark into the list.\n",
    "            landmarks.append((int(landmark.x * width), int(landmark.y * height), (landmark.z * width)))\n",
    "\n",
    "    # Check if the original input image and the resultant image are specified to be displayed.\n",
    "    if display:\n",
    "\n",
    "        # Display the original input image and the resultant image.\n",
    "        plt.figure(figsize=[22,22])\n",
    "        plt.subplot(121);plt.imshow(image[:,:,::-1]);plt.title(\"Original Image\");plt.axis('off');\n",
    "        plt.subplot(122);plt.imshow(img[:,:,::-1]);plt.title(\"Output Image\");plt.axis('off');\n",
    "\n",
    "        # Also Plot the Pose landmarks in 3D.\n",
    "        mp_drawing.plot_landmarks(results.pose_world_landmarks, mp_pose.POSE_CONNECTIONS)\n",
    "\n",
    "    return img, landmarks"
   ]
  }
 ],
 "metadata": {
  "kernelspec": {
   "display_name": "Python 3 (ipykernel)",
   "language": "python",
   "name": "python3"
  },
  "language_info": {
   "codemirror_mode": {
    "name": "ipython",
    "version": 3
   },
   "file_extension": ".py",
   "mimetype": "text/x-python",
   "name": "python",
   "nbconvert_exporter": "python",
   "pygments_lexer": "ipython3",
   "version": "3.9.12"
  }
 },
 "nbformat": 4,
 "nbformat_minor": 5
}
